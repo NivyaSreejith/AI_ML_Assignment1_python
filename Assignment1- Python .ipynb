{
 "cells": [
  {
   "cell_type": "markdown",
   "id": "0ef81dd8",
   "metadata": {},
   "source": [
    "# 1. Simple ATM Calculator \n",
    "\n",
    "Write a program that takes the user's account balance and withdrawal amount. If \n",
    "sufficient balance is available, deduct the amount and display the updated balance. \n",
    "Otherwise, print an error message. \n",
    "\n",
    "\n",
    "\n",
    "\n"
   ]
  },
  {
   "cell_type": "code",
   "execution_count": 132,
   "id": "bedeac88",
   "metadata": {},
   "outputs": [
    {
     "name": "stdout",
     "output_type": "stream",
     "text": [
      "Enter the balance amount Rs5000\n",
      "Enter the withdrawing amount Rs1500\n",
      "Transaction successful. Remaining balance:Rs. 3500\n"
     ]
    }
   ],
   "source": [
    "Balance=int(input('Enter the balance amount Rs'))\n",
    "withdrawal=int(input('Enter the withdrawing amount Rs'))\n",
    "if Balance>=withdrawal:\n",
    "    print('Transaction successful. Remaining balance:Rs.',Balance-withdrawal)\n",
    "else:\n",
    "    print('No sufficient Balance')"
   ]
  },
  {
   "cell_type": "markdown",
   "id": "2f194c7b",
   "metadata": {},
   "source": [
    "# 2. Electricity Bill Generator \n",
    "\n",
    "Create a bill calculator where the user enters the number of units consumed. The rate is \n",
    "₹5 per unit for the first 100 units, ₹7 for the next 100, and ₹10 for anything above 200 \n",
    "units. Calculate and display the total bill. \n",
    "\n"
   ]
  },
  {
   "cell_type": "code",
   "execution_count": 9,
   "id": "4f02468e",
   "metadata": {},
   "outputs": [
    {
     "name": "stdout",
     "output_type": "stream",
     "text": [
      "Enter the consumed units275\n",
      "Bill amount= Rs. 1950  (100*5 + 100*7 +  75 *10)\n"
     ]
    }
   ],
   "source": [
    "units_consumed=int(input('Enter the consumed units'))\n",
    "if units_consumed<=100:\n",
    "    print('Bill amount = Rs.', units_consumed * 5, \"(\", units_consumed, '* 5)')\n",
    "elif units_consumed<=200:\n",
    "    print('Bill amount = Rs.', units_consumed * 7, \"(\", units_consumed, '* 7)')\n",
    "else:\n",
    "    print('Bill amount= Rs.',(100*5)+(100*7)+((units_consumed-200)*10),\" (100*5 + 100*7 + \", units_consumed-200,'*10)')"
   ]
  },
  {
   "cell_type": "markdown",
   "id": "2077f77a",
   "metadata": {},
   "source": [
    "# 3. Temperature Converter \n",
    "Write a Python program to convert a given temperature value between Celsius and \n",
    "Fahrenheit. Accept input as a number and a unit indicator ('C' or 'F'). "
   ]
  },
  {
   "cell_type": "code",
   "execution_count": 134,
   "id": "23ed4380",
   "metadata": {},
   "outputs": [
    {
     "name": "stdout",
     "output_type": "stream",
     "text": [
      "Énter the value37\n",
      "Enter the unit C or F\n",
      "C\n",
      "37.0 °C is  98.6 °F\n"
     ]
    }
   ],
   "source": [
    "temp=float(input('Énter the value'))\n",
    "unit=input('Enter the unit C or F\\n')\n",
    "if unit == 'C':\n",
    "    converted = (temp * 9/5) + 32\n",
    "    print(temp,'°C is ',converted,'°F')\n",
    "elif unit == 'F':\n",
    "    converted = (temp - 32) * 5/9\n",
    "    print(temp,'°F is ',converted,'°C')\n",
    "else:\n",
    "    print(\"Invalid unit. Please use 'C' for Celsius or 'F' for Fahrenheit.\")"
   ]
  },
  {
   "cell_type": "markdown",
   "id": "04e47371",
   "metadata": {},
   "source": [
    "# 4. Mobile Recharge Validity \n",
    "Write a program that takes the recharge date and today’s date as input and checks \n",
    "whether the 28-day recharge plan is still valid or expired. "
   ]
  },
  {
   "cell_type": "code",
   "execution_count": 39,
   "id": "7b5feb28",
   "metadata": {},
   "outputs": [
    {
     "name": "stdout",
     "output_type": "stream",
     "text": [
      "Enter recharge date (YYYY-MM-DD): 2025-07-01\n",
      "Enter today's date (YYYY-MM-DD): 2025-07-30\n",
      "Plan expired. Recharge again.\n"
     ]
    }
   ],
   "source": [
    "from datetime import datetime, timedelta\n",
    "\n",
    "recharge_date_str = input(\"Enter recharge date (YYYY-MM-DD): \")\n",
    "today_str = input(\"Enter today's date (YYYY-MM-DD): \")\n",
    "\n",
    "recharge_date = datetime.strptime(recharge_date_str, \"%Y-%m-%d\").date()\n",
    "today = datetime.strptime(today_str, \"%Y-%m-%d\").date()\n",
    "\n",
    "expiry_date = recharge_date + timedelta(days=28)\n",
    "\n",
    "if today <= expiry_date:\n",
    "    print(\"Plan is still valid.\")\n",
    "else:\n",
    "    print(\"Plan expired. Recharge again.\")\n"
   ]
  },
  {
   "cell_type": "markdown",
   "id": "6fc4148e",
   "metadata": {},
   "source": [
    "# 5. Bus Seat Reservation System: \n",
    "A list contains the names of passengers in order of booking. A cancellation occurs; remove \n",
    "the name from the list and shift the rest. Also, insert a new booking at a specified position. "
   ]
  },
  {
   "cell_type": "code",
   "execution_count": 66,
   "id": "48b8d6ac",
   "metadata": {},
   "outputs": [],
   "source": [
    "Booked = ['Amit', 'Sara', 'John']\n",
    "Cancel = 'Sara'\n",
    "if Cancel in Booked:\n",
    "    Booked.remove(Cancel)"
   ]
  },
  {
   "cell_type": "code",
   "execution_count": 67,
   "id": "bad15c81",
   "metadata": {},
   "outputs": [
    {
     "data": {
      "text/plain": [
       "['Amit', 'John']"
      ]
     },
     "execution_count": 67,
     "metadata": {},
     "output_type": "execute_result"
    }
   ],
   "source": [
    "Booked"
   ]
  },
  {
   "cell_type": "code",
   "execution_count": 68,
   "id": "cff00a56",
   "metadata": {},
   "outputs": [],
   "source": [
    "#New Booking\n",
    "New = 'Neha'\n",
    "position = 1\n",
    "Booked.insert(position,New)"
   ]
  },
  {
   "cell_type": "code",
   "execution_count": 69,
   "id": "fe20d062",
   "metadata": {},
   "outputs": [
    {
     "data": {
      "text/plain": [
       "['Amit', 'Neha', 'John']"
      ]
     },
     "execution_count": 69,
     "metadata": {},
     "output_type": "execute_result"
    }
   ],
   "source": [
    "Booked"
   ]
  },
  {
   "cell_type": "markdown",
   "id": "05695620",
   "metadata": {},
   "source": [
    "# 6. Sum of even numbers \n",
    "Write a program that takes a number as input and prints the sum of all even numbers \n",
    "from 1 to that number. "
   ]
  },
  {
   "cell_type": "code",
   "execution_count": 138,
   "id": "c7fd38d6",
   "metadata": {},
   "outputs": [
    {
     "name": "stdout",
     "output_type": "stream",
     "text": [
      "Enter the number 10\n",
      "Sum of even numbers :  30\n"
     ]
    }
   ],
   "source": [
    "num=int(input('Enter the number '))\n",
    "total=0\n",
    "\n",
    "for i in range(2,num+1,2):\n",
    "    total+=i\n",
    "print('Sum of even numbers : ',total)"
   ]
  },
  {
   "cell_type": "markdown",
   "id": "c7553812",
   "metadata": {},
   "source": [
    "# 7. Dictionary – Student Marks Summary \n",
    "Write a program that takes input of 3 students’ names and their marks, stores them in a \n",
    "dictionary, and prints the average marks. "
   ]
  },
  {
   "cell_type": "code",
   "execution_count": 83,
   "id": "4e63dc84",
   "metadata": {},
   "outputs": [
    {
     "name": "stdout",
     "output_type": "stream",
     "text": [
      "Enter name: Alice\n",
      "Enter marks: 80\n",
      "Enter name: Bob\n",
      "Enter marks: 90\n",
      "Enter name: Charlie\n",
      "Enter marks: 70\n"
     ]
    }
   ],
   "source": [
    "marks_dict = {}\n",
    "total = 0\n",
    "for i in range(3):\n",
    "    name = input(\"Enter name: \")\n",
    "    marks = float(input(\"Enter marks: \"))\n",
    "    marks_dict[name] = marks\n",
    "    total += marks"
   ]
  },
  {
   "cell_type": "code",
   "execution_count": 84,
   "id": "5f793d8b",
   "metadata": {},
   "outputs": [
    {
     "data": {
      "text/plain": [
       "240.0"
      ]
     },
     "execution_count": 84,
     "metadata": {},
     "output_type": "execute_result"
    }
   ],
   "source": [
    "total"
   ]
  },
  {
   "cell_type": "code",
   "execution_count": 85,
   "id": "1b067ac8",
   "metadata": {},
   "outputs": [],
   "source": [
    "avg=total/3"
   ]
  },
  {
   "cell_type": "code",
   "execution_count": 86,
   "id": "92075232",
   "metadata": {},
   "outputs": [
    {
     "data": {
      "text/plain": [
       "80.0"
      ]
     },
     "execution_count": 86,
     "metadata": {},
     "output_type": "execute_result"
    }
   ],
   "source": [
    "avg"
   ]
  },
  {
   "cell_type": "code",
   "execution_count": 87,
   "id": "fd7ecabe",
   "metadata": {},
   "outputs": [
    {
     "name": "stdout",
     "output_type": "stream",
     "text": [
      "Average Mark is  80.0\n"
     ]
    }
   ],
   "source": [
    "print(\"Average Mark is \",avg)"
   ]
  },
  {
   "cell_type": "markdown",
   "id": "61f3a9fd",
   "metadata": {},
   "source": [
    "# 8. Dictionary – Word Frequency \n",
    "Write a program that takes a sentence and displays the frequency of each word using a \n",
    "dictionary."
   ]
  },
  {
   "cell_type": "code",
   "execution_count": 97,
   "id": "5c725fbb",
   "metadata": {},
   "outputs": [
    {
     "name": "stdout",
     "output_type": "stream",
     "text": [
      "Enter a sentence: hello world Hello python\n",
      "hello : 2\n",
      "world : 1\n",
      "python : 1\n"
     ]
    }
   ],
   "source": [
    "\n",
    "\n",
    "sentence = input(\"Enter a sentence: \").lower()\n",
    "words = sentence.split()\n",
    "\n",
    "freq_dict = {}\n",
    "for i in words:\n",
    "    freq_dict[i] = freq_dict.get(i, 0) + 1\n",
    "\n",
    "for i, freq in freq_dict.items():\n",
    "    print(i, ':' ,freq)\n"
   ]
  },
  {
   "cell_type": "markdown",
   "id": "53ad7e66",
   "metadata": {},
   "source": [
    "# 9. Functions – Check Prime  \n",
    "Write a function that checks whether a number is prime. Call the function with user input."
   ]
  },
  {
   "cell_type": "code",
   "execution_count": 120,
   "id": "f8ac16c6",
   "metadata": {},
   "outputs": [
    {
     "name": "stdout",
     "output_type": "stream",
     "text": [
      "Enter the number to check 17\n",
      "It's a prime number\n"
     ]
    }
   ],
   "source": [
    "num1=int(input('Enter the number to check '))\n",
    "def prime(num1):\n",
    "    for i in range(2,num):\n",
    "        if num1%i==0:\n",
    "            print(\"It's not a prime number\")\n",
    "            return\n",
    "    print(\"It's a prime number\")\n",
    "prime(num1)"
   ]
  },
  {
   "cell_type": "markdown",
   "id": "aa027752",
   "metadata": {},
   "source": [
    "# 10. Vowel Counter \n",
    "Write a function that takes a string and returns the number of vowels in it.  "
   ]
  },
  {
   "cell_type": "code",
   "execution_count": 123,
   "id": "b27129cd",
   "metadata": {},
   "outputs": [
    {
     "name": "stdout",
     "output_type": "stream",
     "text": [
      "Enter the string  Python Programming \n",
      "4\n"
     ]
    }
   ],
   "source": [
    "vowels=['a','e','i','o','u']\n",
    "string=input('Enter the string  ')\n",
    "string.lower()\n",
    "count=0\n",
    "for i in string:\n",
    "    if i in vowels:\n",
    "        count+=1\n",
    "print(count)"
   ]
  },
  {
   "cell_type": "markdown",
   "id": "7e18152f",
   "metadata": {},
   "source": [
    "# 11. Count Divisible Numbers \n",
    "Write a program that takes two numbers as input: a range limit N and a divisor D. Count \n",
    "how many numbers between 1 and N are divisible by D."
   ]
  },
  {
   "cell_type": "code",
   "execution_count": 136,
   "id": "889f7355",
   "metadata": {},
   "outputs": [
    {
     "name": "stdout",
     "output_type": "stream",
     "text": [
      "Enter the range limit50\n",
      "Enter the divisor5\n",
      "Count of numbers divisible by  5 : 10\n",
      "Divisible numbers are  [5, 10, 15, 20, 25, 30, 35, 40, 45, 50]\n"
     ]
    }
   ],
   "source": [
    "range_limit = int(input('Enter the range limit'))\n",
    "divisor = int(input('Enter the divisor'))\n",
    "count=0\n",
    "divisible_numbers=[]\n",
    "for i in range(1,range_limit+1):\n",
    "    if i%divisor==0:\n",
    "        count+=1\n",
    "        divisible_numbers.append(i)\n",
    "print('Count of numbers divisible by ',divisor,':', count)\n",
    "print('Divisible numbers are ',divisible_numbers)\n"
   ]
  },
  {
   "cell_type": "code",
   "execution_count": null,
   "id": "13956e90",
   "metadata": {},
   "outputs": [],
   "source": []
  }
 ],
 "metadata": {
  "kernelspec": {
   "display_name": "Python 3 (ipykernel)",
   "language": "python",
   "name": "python3"
  },
  "language_info": {
   "codemirror_mode": {
    "name": "ipython",
    "version": 3
   },
   "file_extension": ".py",
   "mimetype": "text/x-python",
   "name": "python",
   "nbconvert_exporter": "python",
   "pygments_lexer": "ipython3",
   "version": "3.10.9"
  }
 },
 "nbformat": 4,
 "nbformat_minor": 5
}
